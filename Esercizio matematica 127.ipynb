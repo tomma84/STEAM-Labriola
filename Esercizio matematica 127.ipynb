{
 "cells": [
  {
   "cell_type": "markdown",
   "metadata": {},
   "source": [
    "# Es pag G129 num 127\n",
    "\n",
    "In natura alcuni fiori hanno approssimativamente il profilo di un pentagono regolare, come quello in figura. Trova le ampiezze degli angoli $\\alpha$, $\\beta$, $\\gamma$."
   ]
  },
  {
   "cell_type": "markdown",
   "metadata": {},
   "source": [
    "![](pentagono.png)"
   ]
  },
  {
   "cell_type": "markdown",
   "metadata": {},
   "source": [
    "## Risoluzione\n",
    "\n",
    "La somma degli angoli interni di un poligono corrisponde a: $\\pi(n-2)$\n",
    "\n",
    "Il singolo angolo interno del poligono regolare corrisponde a: $\\frac{\\pi(n-2)}{n} $"
   ]
  },
  {
   "cell_type": "code",
   "execution_count": 3,
   "metadata": {},
   "outputs": [],
   "source": [
    "n  = 5\n",
    "\n",
    "angolo_interno = 180*(n-2)/n"
   ]
  },
  {
   "cell_type": "code",
   "execution_count": 4,
   "metadata": {},
   "outputs": [
    {
     "data": {
      "text/plain": [
       "108.0"
      ]
     },
     "execution_count": 4,
     "metadata": {},
     "output_type": "execute_result"
    }
   ],
   "source": [
    "angolo_interno"
   ]
  },
  {
   "cell_type": "markdown",
   "metadata": {},
   "source": [
    "Nella figura gli angoli $\\alpha$ e $\\gamma$ sono tra loro congruenti perché angoli corrispondenti di due triangoli congruenti. Tali triangoli sono congruenti per il primo criterio di congruenza.\n",
    "\n",
    "$$\n",
    "\\alpha \\cong \\gamma\n",
    "$$"
   ]
  },
  {
   "cell_type": "markdown",
   "metadata": {},
   "source": [
    "$$\n",
    "\\alpha + \\beta + \\gamma = 108\n",
    "$$"
   ]
  },
  {
   "cell_type": "markdown",
   "metadata": {},
   "source": [
    "Essendo i due angoli congruenti la relazione diventa:\n",
    "\n",
    "$$\n",
    "2\\alpha + \\beta = 108\n",
    "$$"
   ]
  },
  {
   "cell_type": "markdown",
   "metadata": {},
   "source": [
    "Esplicitiamo $\\beta$ trovando $\\beta = 108 - 2\\alpha$"
   ]
  },
  {
   "cell_type": "markdown",
   "metadata": {},
   "source": [
    "Gli angoli alla base del triangolo isoscele corrispondono a: $108 - \\alpha$\n",
    "\n",
    "Sapendo che la somma degli angoli interni del triangolo è 180 gradi, allora si avrá che: $2(108-\\alpha) + \\beta = 180$"
   ]
  },
  {
   "cell_type": "markdown",
   "metadata": {},
   "source": [
    "L'equazione finale sarà:\n",
    "$$\n",
    "2(108-\\alpha) + 108 - 2\\alpha  = 180\n",
    "$$"
   ]
  },
  {
   "cell_type": "code",
   "execution_count": 5,
   "metadata": {},
   "outputs": [],
   "source": [
    "import sympy as sym"
   ]
  },
  {
   "cell_type": "code",
   "execution_count": 6,
   "metadata": {},
   "outputs": [],
   "source": [
    "a = sym.Symbol('a')\n",
    "\n",
    "equazione = sym.Eq(2*(108 - a) + 108 -2*a, 180)"
   ]
  },
  {
   "cell_type": "code",
   "execution_count": 7,
   "metadata": {},
   "outputs": [
    {
     "data": {
      "text/latex": [
       "$\\displaystyle 324 - 4 a = 180$"
      ],
      "text/plain": [
       "Eq(324 - 4*a, 180)"
      ]
     },
     "execution_count": 7,
     "metadata": {},
     "output_type": "execute_result"
    }
   ],
   "source": [
    "equazione"
   ]
  },
  {
   "cell_type": "code",
   "execution_count": 9,
   "metadata": {},
   "outputs": [
    {
     "data": {
      "text/plain": [
       "[36]"
      ]
     },
     "execution_count": 9,
     "metadata": {},
     "output_type": "execute_result"
    }
   ],
   "source": [
    "sym.solve(equazione, a)"
   ]
  },
  {
   "cell_type": "code",
   "execution_count": 10,
   "metadata": {},
   "outputs": [
    {
     "data": {
      "text/plain": [
       "36"
      ]
     },
     "execution_count": 10,
     "metadata": {},
     "output_type": "execute_result"
    }
   ],
   "source": [
    "108 - 36*2"
   ]
  },
  {
   "cell_type": "code",
   "execution_count": null,
   "metadata": {},
   "outputs": [],
   "source": []
  }
 ],
 "metadata": {
  "kernelspec": {
   "display_name": "Python 3",
   "language": "python",
   "name": "python3"
  },
  "language_info": {
   "codemirror_mode": {
    "name": "ipython",
    "version": 3
   },
   "file_extension": ".py",
   "mimetype": "text/x-python",
   "name": "python",
   "nbconvert_exporter": "python",
   "pygments_lexer": "ipython3",
   "version": "3.9.4"
  }
 },
 "nbformat": 4,
 "nbformat_minor": 4
}
