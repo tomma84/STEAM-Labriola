{
 "cells": [
  {
   "cell_type": "markdown",
   "metadata": {},
   "source": [
    "# Analisi legame periodo e frequenza di un fischio registrato con il microfono"
   ]
  },
  {
   "cell_type": "code",
   "execution_count": 1,
   "metadata": {},
   "outputs": [],
   "source": [
    "from scipy.io import wavfile\n",
    "import numpy as np\n",
    "import matplotlib.pyplot as plt\n",
    "from scipy.fft import fft, fftfreq"
   ]
  },
  {
   "cell_type": "code",
   "execution_count": 2,
   "metadata": {},
   "outputs": [],
   "source": [
    "samplerate, data = wavfile.read('fischio.wav')"
   ]
  },
  {
   "cell_type": "markdown",
   "metadata": {},
   "source": [
    "## Dati letti dal file\n",
    "\n",
    "### Due canali audio: sinistro/destro"
   ]
  },
  {
   "cell_type": "code",
   "execution_count": 3,
   "metadata": {},
   "outputs": [
    {
     "data": {
      "text/plain": [
       "array([[  5678,   8022],\n",
       "       [  8211,   7163],\n",
       "       [  5741,   7879],\n",
       "       [  3906,   6597],\n",
       "       [  2843,   4586],\n",
       "       [   489,   4281],\n",
       "       [ -4284,   1356],\n",
       "       [ -3658,  -3113],\n",
       "       [ -4951,  -3993],\n",
       "       [ -7833,  -4527],\n",
       "       [ -6666,  -7367],\n",
       "       [ -7221,  -7622],\n",
       "       [ -6038,  -8471],\n",
       "       [ -3815,  -7375],\n",
       "       [ -1713,  -4862],\n",
       "       [  -279,  -3564],\n",
       "       [  2497,  -2053],\n",
       "       [  4381,   1039],\n",
       "       [  7066,   3589],\n",
       "       [  6690,   5613],\n",
       "       [  8368,   6669],\n",
       "       [  8105,   7708],\n",
       "       [  5943,   8584],\n",
       "       [  4946,   6343],\n",
       "       [  4004,   6018],\n",
       "       [  -372,   3815],\n",
       "       [   141,    796],\n",
       "       [ -5257,    316],\n",
       "       [ -5931,  -3477],\n",
       "       [ -6943,  -6249],\n",
       "       [ -6476,  -6180],\n",
       "       [ -6752,  -7535],\n",
       "       [ -6634,  -6486],\n",
       "       [ -4663,  -7339],\n",
       "       [ -1084,  -6499],\n",
       "       [  1142,  -2727],\n",
       "       [  1201,    537],\n",
       "       [  4352,    259],\n",
       "       [  6782,   3229],\n",
       "       [  8887,   5508],\n",
       "       [  6998,   8736],\n",
       "       [  8403,   7728],\n",
       "       [  6154,   8617],\n",
       "       [  6578,   6405],\n",
       "       [  4500,   7410],\n",
       "       [   615,   6166],\n",
       "       [ -2138,   1854],\n",
       "       [ -2970,  -1878],\n",
       "       [ -3887,  -2170],\n",
       "       [ -7212,  -3236],\n",
       "       [ -9867,  -6608],\n",
       "       [ -7474,  -9065],\n",
       "       [ -4484,  -8565],\n",
       "       [ -4242,  -5138],\n",
       "       [ -5524,  -4794],\n",
       "       [   431,  -5806],\n",
       "       [  1989,  -2261],\n",
       "       [  5407,   1444],\n",
       "       [  5620,   3278],\n",
       "       [  5349,   5595],\n",
       "       [  8237,   3966],\n",
       "       [  8344,   7478],\n",
       "       [  8183,   7895],\n",
       "       [  4277,   8712],\n",
       "       [  2011,   5174],\n",
       "       [  1776,   2336],\n",
       "       [   903,   2538],\n",
       "       [ -5644,   2052],\n",
       "       [ -5647,  -4505],\n",
       "       [ -6797,  -5912],\n",
       "       [ -5459,  -6580],\n",
       "       [ -8543,  -6062],\n",
       "       [ -7638,  -7869],\n",
       "       [ -5422,  -9568],\n",
       "       [ -2200,  -5850],\n",
       "       [ -1043,  -4527],\n",
       "       [  -162,  -1255],\n",
       "       [  3806,  -1413],\n",
       "       [  5987,   1943],\n",
       "       [  6340,   3772],\n",
       "       [  7864,   7212],\n",
       "       [  7864,   7494],\n",
       "       [  8434,   7370],\n",
       "       [  5236,   8324],\n",
       "       [  4242,   6879],\n",
       "       [  1144,   5558],\n",
       "       [   468,   1931],\n",
       "       [ -2696,    826],\n",
       "       [ -4238,  -1789],\n",
       "       [ -8931,  -3605],\n",
       "       [ -6772,  -7885],\n",
       "       [ -6859,  -7464],\n",
       "       [ -8028,  -7429],\n",
       "       [ -6465,  -8406],\n",
       "       [ -4932,  -7054],\n",
       "       [   152,  -6331],\n",
       "       [  1179,  -2958],\n",
       "       [  2024,    351],\n",
       "       [  3766,   1836],\n",
       "       [  7485,   2358],\n",
       "       [  7505,   6977],\n",
       "       [  9807,   7382],\n",
       "       [  5552,  10605],\n",
       "       [  7308,   6667],\n",
       "       [  4546,   7344],\n",
       "       [  3404,   6256],\n",
       "       [  -287,   4529],\n",
       "       [ -3612,   1537],\n",
       "       [ -4604,  -2431],\n",
       "       [ -5353,  -4107],\n",
       "       [ -8006,  -6036],\n",
       "       [ -8994,  -6746],\n",
       "       [ -7884,  -9812],\n",
       "       [ -6554,  -8311],\n",
       "       [ -4160,  -8250],\n",
       "       [ -1743,  -5074],\n",
       "       [ -1613,  -3216],\n",
       "       [  3679,  -3372],\n",
       "       [  5149,   2161],\n",
       "       [  6692,   4952],\n",
       "       [  7463,   5655],\n",
       "       [  9604,   7319],\n",
       "       [  8952,   8842],\n",
       "       [  7581,   9655],\n",
       "       [  5779,   7947],\n",
       "       [  3318,   6559],\n",
       "       [  2401,   3435],\n",
       "       [ -2758,   2890],\n",
       "       [ -4352,  -1843],\n",
       "       [ -7031,  -4059],\n",
       "       [ -6606,  -6649],\n",
       "       [ -9026,  -7837],\n",
       "       [ -8603,  -8479],\n",
       "       [ -8379,  -9742],\n",
       "       [ -5032,  -8507],\n",
       "       [ -4012,  -7845],\n",
       "       [  -436,  -4357],\n",
       "       [  1916,  -2257],\n",
       "       [  2883,   1035],\n",
       "       [  8129,   1394],\n",
       "       [  9010,   7091],\n",
       "       [  8028,   8527],\n",
       "       [  8281,   8879],\n",
       "       [  7744,   8287],\n",
       "       [  8233,   8536],\n",
       "       [  4239,   7739],\n",
       "       [  1018,   6004],\n",
       "       [ -2115,   1833],\n",
       "       [ -2488,  -1634],\n",
       "       [ -6950,  -2572],\n",
       "       [ -8085,  -6070],\n",
       "       [ -8603,  -7855],\n",
       "       [-10375,  -8798],\n",
       "       [ -5863, -11430],\n",
       "       [ -8003,  -7682],\n",
       "       [ -3651,  -7344],\n",
       "       [ -2996,  -6237],\n",
       "       [  2663,  -3270],\n",
       "       [  3260,    222],\n",
       "       [  6169,   4006],\n",
       "       [  6585,   4987],\n",
       "       [ 10146,   6756],\n",
       "       [ 10212,   9554],\n",
       "       [  6854,  11003],\n",
       "       [  6091,   7823],\n",
       "       [  4688,   7096],\n",
       "       [  2863,   4849],\n",
       "       [ -2423,   4248],\n",
       "       [ -3854,  -1286],\n",
       "       [ -6441,  -3408],\n",
       "       [ -6713,  -6942],\n",
       "       [ -9579,  -6283],\n",
       "       [ -9640,  -9044],\n",
       "       [ -9252,  -9489],\n",
       "       [ -5403, -10819],\n",
       "       [ -4101,  -6820],\n",
       "       [ -2583,  -4149],\n",
       "       [  -250,  -3383],\n",
       "       [  4260,   -300],\n",
       "       [  5826,   2507],\n",
       "       [  8736,   6267],\n",
       "       [  7898,   7750],\n",
       "       [ 10217,   9870],\n",
       "       [  9723,   8534],\n",
       "       [  7718,  11245],\n",
       "       [  5148,   7771],\n",
       "       [  2327,   7376],\n",
       "       [  1801,   2871],\n",
       "       [ -3291,   2181],\n",
       "       [ -5480,  -2235],\n",
       "       [ -7882,  -4372],\n",
       "       [ -7439,  -7348],\n",
       "       [ -8061,  -8555],\n",
       "       [ -9991,  -7674],\n",
       "       [ -6349, -10435],\n",
       "       [ -7555,  -6978],\n",
       "       [ -1434,  -7747],\n",
       "       [  -898,  -2996],\n",
       "       [  2683,  -1883],\n",
       "       [  4137,   2298],\n",
       "       [  8011,   3871],\n",
       "       [  8554,   7210],\n",
       "       [  8862,   8565],\n",
       "       [  8567,   9835],\n",
       "       [  8235,   8926],\n",
       "       [  7270,   8633],\n",
       "       [  3677,   8089],\n",
       "       [   649,   5906],\n",
       "       [ -3292,    922],\n",
       "       [ -3794,  -2032],\n",
       "       [ -6069,  -3963],\n",
       "       [ -8907,  -5376],\n",
       "       [-10554,  -8269],\n",
       "       [ -9554, -10577],\n",
       "       [ -5985, -10649],\n",
       "       [ -9068,  -6968]], dtype=int16)"
      ]
     },
     "execution_count": 3,
     "metadata": {},
     "output_type": "execute_result"
    }
   ],
   "source": [
    "data"
   ]
  },
  {
   "cell_type": "markdown",
   "metadata": {},
   "source": [
    "### Frequenza di campionamento: 44100 campioni ogni secondo"
   ]
  },
  {
   "cell_type": "code",
   "execution_count": 4,
   "metadata": {},
   "outputs": [
    {
     "data": {
      "text/plain": [
       "44100"
      ]
     },
     "execution_count": 4,
     "metadata": {},
     "output_type": "execute_result"
    }
   ],
   "source": [
    "samplerate"
   ]
  },
  {
   "cell_type": "code",
   "execution_count": 5,
   "metadata": {},
   "outputs": [
    {
     "data": {
      "text/plain": [
       "(216, 2)"
      ]
     },
     "execution_count": 5,
     "metadata": {},
     "output_type": "execute_result"
    }
   ],
   "source": [
    "data.shape"
   ]
  },
  {
   "cell_type": "code",
   "execution_count": 6,
   "metadata": {},
   "outputs": [
    {
     "data": {
      "text/plain": [
       "0.004897959183673469"
      ]
     },
     "execution_count": 6,
     "metadata": {},
     "output_type": "execute_result"
    }
   ],
   "source": [
    "duration = data.shape[0] / samplerate\n",
    "duration"
   ]
  },
  {
   "cell_type": "code",
   "execution_count": 7,
   "metadata": {},
   "outputs": [],
   "source": [
    "time = np.linspace(0., duration, data.shape[0])"
   ]
  },
  {
   "cell_type": "markdown",
   "metadata": {},
   "source": [
    "### Grafico delle onde nel tempo"
   ]
  },
  {
   "cell_type": "code",
   "execution_count": 8,
   "metadata": {
    "scrolled": true
   },
   "outputs": [
    {
     "data": {
      "image/png": "[encoded data removed]",
      "text/plain": [
       "<Figure size 432x288 with 1 Axes>"
      ]
     },
     "metadata": {
      "needs_background": "light"
     },
     "output_type": "display_data"
    }
   ],
   "source": [
    "plt.plot(time, data[:, 0], label=\"Left channel\")\n",
    "plt.plot(time, data[:, 1], label=\"Right channel\")\n",
    "plt.legend()\n",
    "plt.xlabel(\"Time [s]\")\n",
    "plt.ylabel(\"Amplitude\")\n",
    "plt.grid()\n",
    "plt.show()"
   ]
  },
  {
   "cell_type": "code",
   "execution_count": 9,
   "metadata": {},
   "outputs": [],
   "source": [
    "periodo = 0.0005"
   ]
  },
  {
   "cell_type": "markdown",
   "metadata": {},
   "source": [
    "### Grafico dello spettro della frequenza"
   ]
  },
  {
   "cell_type": "code",
   "execution_count": 10,
   "metadata": {},
   "outputs": [],
   "source": [
    "dati=np.abs(fft(data[:, 0]))\n",
    "frequenza=fftfreq(data.shape[0],1/44100)"
   ]
  },
  {
   "cell_type": "code",
   "execution_count": 11,
   "metadata": {},
   "outputs": [
    {
     "data": {
      "image/png": "[encoded data removed]",
      "text/plain": [
       "<Figure size 432x288 with 1 Axes>"
      ]
     },
     "metadata": {
      "needs_background": "light"
     },
     "output_type": "display_data"
    }
   ],
   "source": [
    "plt.plot(frequenza,dati)\n",
    "plt.grid()\n",
    "plt.xlim(2000, 2700)\n",
    "plt.show()"
   ]
  },
  {
   "cell_type": "code",
   "execution_count": 12,
   "metadata": {},
   "outputs": [
    {
     "data": {
      "text/plain": [
       "11"
      ]
     },
     "execution_count": 12,
     "metadata": {},
     "output_type": "execute_result"
    }
   ],
   "source": [
    "dati.argmax()\n"
   ]
  },
  {
   "cell_type": "code",
   "execution_count": 13,
   "metadata": {},
   "outputs": [
    {
     "data": {
      "text/plain": [
       "2245.8333333333335"
      ]
     },
     "execution_count": 13,
     "metadata": {},
     "output_type": "execute_result"
    }
   ],
   "source": [
    "F=frequenza[11]\n",
    "F"
   ]
  },
  {
   "cell_type": "markdown",
   "metadata": {},
   "source": [
    "## Calcolo del periodo dalla frequenza\n",
    "### Legame di proporzionalità inversa"
   ]
  },
  {
   "cell_type": "code",
   "execution_count": 14,
   "metadata": {},
   "outputs": [
    {
     "data": {
      "text/plain": [
       "0.0004452690166975881"
      ]
     },
     "execution_count": 14,
     "metadata": {},
     "output_type": "execute_result"
    }
   ],
   "source": [
    "1/F"
   ]
  },
  {
   "cell_type": "code",
   "execution_count": null,
   "metadata": {},
   "outputs": [],
   "source": []
  }
 ],
 "metadata": {
  "kernelspec": {
   "display_name": "Python 3",
   "language": "python",
   "name": "python3"
  },
  "language_info": {
   "codemirror_mode": {
    "name": "ipython",
    "version": 3
   },
   "file_extension": ".py",
   "mimetype": "text/x-python",
   "name": "python",
   "nbconvert_exporter": "python",
   "pygments_lexer": "ipython3",
   "version": "3.9.4"
  }
 },
 "nbformat": 4,
 "nbformat_minor": 4
}
