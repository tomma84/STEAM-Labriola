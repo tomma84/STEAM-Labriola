{
 "cells": [
  {
   "cell_type": "code",
   "execution_count": 23,
   "id": "70cec451",
   "metadata": {},
   "outputs": [],
   "source": [
    "import sympy as sym\n",
    "from IPython.display import display"
   ]
  },
  {
   "cell_type": "code",
   "execution_count": 2,
   "id": "fea16f7c",
   "metadata": {},
   "outputs": [],
   "source": [
    "a = sym.Symbol('a')\n",
    "b = sym.Symbol('b')\n",
    "x = sym.Symbol('x')"
   ]
  },
  {
   "cell_type": "code",
   "execution_count": 3,
   "id": "a88906c1",
   "metadata": {},
   "outputs": [],
   "source": [
    "primo_membro = a*x\n",
    "secondo_membro = b"
   ]
  },
  {
   "cell_type": "code",
   "execution_count": 4,
   "id": "d2ee49f8",
   "metadata": {},
   "outputs": [],
   "source": [
    "eq = sym.Eq(primo_membro, secondo_membro)"
   ]
  },
  {
   "cell_type": "code",
   "execution_count": 5,
   "id": "e24c9d82",
   "metadata": {},
   "outputs": [
    {
     "data": {
      "text/latex": [
       "$\\displaystyle a x = b$"
      ],
      "text/plain": [
       "Eq(a*x, b)"
      ]
     },
     "execution_count": 5,
     "metadata": {},
     "output_type": "execute_result"
    }
   ],
   "source": [
    "eq"
   ]
  },
  {
   "cell_type": "code",
   "execution_count": 13,
   "id": "2828b855",
   "metadata": {},
   "outputs": [],
   "source": [
    "sol = sym.solve(eq, x)[0]"
   ]
  },
  {
   "cell_type": "code",
   "execution_count": 9,
   "id": "b2c9b4d6",
   "metadata": {},
   "outputs": [
    {
     "data": {
      "text/latex": [
       "$\\displaystyle \\frac{b}{a}$"
      ],
      "text/plain": [
       "b/a"
      ]
     },
     "execution_count": 9,
     "metadata": {},
     "output_type": "execute_result"
    }
   ],
   "source": [
    "sol"
   ]
  },
  {
   "cell_type": "code",
   "execution_count": 16,
   "id": "51658164",
   "metadata": {},
   "outputs": [
    {
     "data": {
      "text/latex": [
       "$\\displaystyle \\frac{1}{2}$"
      ],
      "text/plain": [
       "1/2"
      ]
     },
     "execution_count": 16,
     "metadata": {},
     "output_type": "execute_result"
    }
   ],
   "source": [
    "sol.subs([ (a, 4), (b, 2) ])"
   ]
  },
  {
   "cell_type": "code",
   "execution_count": 17,
   "id": "e98bae47",
   "metadata": {},
   "outputs": [
    {
     "data": {
      "text/latex": [
       "$\\displaystyle \\frac{7}{3}$"
      ],
      "text/plain": [
       "7/3"
      ]
     },
     "execution_count": 17,
     "metadata": {},
     "output_type": "execute_result"
    }
   ],
   "source": [
    "sol.subs([ (a, 3), (b, 7) ])"
   ]
  },
  {
   "cell_type": "code",
   "execution_count": 18,
   "id": "fdcaa233",
   "metadata": {},
   "outputs": [
    {
     "data": {
      "text/latex": [
       "$\\displaystyle \\tilde{\\infty}$"
      ],
      "text/plain": [
       "zoo"
      ]
     },
     "execution_count": 18,
     "metadata": {},
     "output_type": "execute_result"
    }
   ],
   "source": [
    "sol.subs([ (a, 0), (b, 7) ])"
   ]
  },
  {
   "cell_type": "code",
   "execution_count": 19,
   "id": "770c05b6",
   "metadata": {},
   "outputs": [
    {
     "data": {
      "text/latex": [
       "$\\displaystyle \\text{NaN}$"
      ],
      "text/plain": [
       "nan"
      ]
     },
     "execution_count": 19,
     "metadata": {},
     "output_type": "execute_result"
    }
   ],
   "source": [
    "sol.subs([ (a, 0), (b, 0) ])"
   ]
  },
  {
   "cell_type": "code",
   "execution_count": 28,
   "id": "0938c762",
   "metadata": {},
   "outputs": [],
   "source": [
    "def sol_eq_primo_grado(A, B):\n",
    "    if A != 0:\n",
    "        soluzione = sol.subs([ (a, A), (b, B) ])\n",
    "        display(soluzione)\n",
    "    else:\n",
    "        if B == 0:\n",
    "            print(\"L'equazione è indeterminata\")\n",
    "        else:\n",
    "            print(\"L'equazione è impossibile\")"
   ]
  },
  {
   "cell_type": "code",
   "execution_count": 32,
   "id": "6f9235df",
   "metadata": {},
   "outputs": [
    {
     "data": {
      "text/latex": [
       "$\\displaystyle \\frac{7}{3}$"
      ],
      "text/plain": [
       "7/3"
      ]
     },
     "metadata": {},
     "output_type": "display_data"
    }
   ],
   "source": [
    "sol_eq_primo_grado(3, 7)"
   ]
  },
  {
   "cell_type": "code",
   "execution_count": 31,
   "id": "bd4ab3f2",
   "metadata": {},
   "outputs": [
    {
     "name": "stdout",
     "output_type": "stream",
     "text": [
      "L'equazione è indeterminata\n"
     ]
    }
   ],
   "source": [
    "sol_eq_primo_grado(0, 0)"
   ]
  },
  {
   "cell_type": "code",
   "execution_count": null,
   "id": "894c54ff",
   "metadata": {},
   "outputs": [],
   "source": []
  }
 ],
 "metadata": {
  "kernelspec": {
   "display_name": "Python 3",
   "language": "python",
   "name": "python3"
  },
  "language_info": {
   "codemirror_mode": {
    "name": "ipython",
    "version": 3
   },
   "file_extension": ".py",
   "mimetype": "text/x-python",
   "name": "python",
   "nbconvert_exporter": "python",
   "pygments_lexer": "ipython3",
   "version": "3.9.4"
  }
 },
 "nbformat": 4,
 "nbformat_minor": 5
}
