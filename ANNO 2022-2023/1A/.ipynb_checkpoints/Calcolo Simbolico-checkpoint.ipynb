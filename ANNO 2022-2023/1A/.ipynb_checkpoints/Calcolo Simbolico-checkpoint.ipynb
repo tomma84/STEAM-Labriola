{
 "cells": [
  {
   "cell_type": "markdown",
   "id": "a22d3e5c",
   "metadata": {},
   "source": [
    "# Calcolo simbolico"
   ]
  },
  {
   "cell_type": "code",
   "execution_count": 1,
   "id": "88d901b4",
   "metadata": {},
   "outputs": [],
   "source": [
    "a = 1/3"
   ]
  },
  {
   "cell_type": "code",
   "execution_count": 2,
   "id": "c77482d3",
   "metadata": {},
   "outputs": [],
   "source": [
    "b = a + 1"
   ]
  },
  {
   "cell_type": "code",
   "execution_count": 3,
   "id": "67ac78cf",
   "metadata": {},
   "outputs": [],
   "source": [
    "c = b - 1"
   ]
  },
  {
   "cell_type": "code",
   "execution_count": 4,
   "id": "fb891042",
   "metadata": {},
   "outputs": [
    {
     "data": {
      "text/plain": [
       "0.9999999999999998"
      ]
     },
     "execution_count": 4,
     "metadata": {},
     "output_type": "execute_result"
    }
   ],
   "source": [
    "c*3"
   ]
  },
  {
   "cell_type": "code",
   "execution_count": 5,
   "id": "5a875bb4",
   "metadata": {},
   "outputs": [],
   "source": [
    "import sympy as sym"
   ]
  },
  {
   "cell_type": "code",
   "execution_count": 6,
   "id": "c0828e3b",
   "metadata": {},
   "outputs": [],
   "source": [
    "a = sym.Rational(1, 3)"
   ]
  },
  {
   "cell_type": "code",
   "execution_count": 7,
   "id": "f67f5a75",
   "metadata": {},
   "outputs": [],
   "source": [
    "b = a + 1"
   ]
  },
  {
   "cell_type": "code",
   "execution_count": 8,
   "id": "e7d4c58a",
   "metadata": {},
   "outputs": [
    {
     "data": {
      "text/latex": [
       "$\\displaystyle \\frac{4}{3}$"
      ],
      "text/plain": [
       "4/3"
      ]
     },
     "execution_count": 8,
     "metadata": {},
     "output_type": "execute_result"
    }
   ],
   "source": [
    "b"
   ]
  },
  {
   "cell_type": "code",
   "execution_count": 9,
   "id": "d3de4d8f",
   "metadata": {},
   "outputs": [],
   "source": [
    "c = b - 1"
   ]
  },
  {
   "cell_type": "code",
   "execution_count": 10,
   "id": "b4c3bb40",
   "metadata": {},
   "outputs": [
    {
     "data": {
      "text/latex": [
       "$\\displaystyle 1$"
      ],
      "text/plain": [
       "1"
      ]
     },
     "execution_count": 10,
     "metadata": {},
     "output_type": "execute_result"
    }
   ],
   "source": [
    "c*3"
   ]
  },
  {
   "cell_type": "code",
   "execution_count": 11,
   "id": "9a32b851",
   "metadata": {},
   "outputs": [],
   "source": [
    "x = sym.Symbol('x')"
   ]
  },
  {
   "cell_type": "code",
   "execution_count": 12,
   "id": "a43bbacb",
   "metadata": {},
   "outputs": [
    {
     "data": {
      "text/latex": [
       "$\\displaystyle x$"
      ],
      "text/plain": [
       "x"
      ]
     },
     "execution_count": 12,
     "metadata": {},
     "output_type": "execute_result"
    }
   ],
   "source": [
    "x"
   ]
  },
  {
   "cell_type": "code",
   "execution_count": 13,
   "id": "750329e4",
   "metadata": {},
   "outputs": [],
   "source": [
    "primo_membro = 3*x - 5"
   ]
  },
  {
   "cell_type": "code",
   "execution_count": 14,
   "id": "e2a9da51",
   "metadata": {},
   "outputs": [],
   "source": [
    "secondo_membro = 7"
   ]
  },
  {
   "cell_type": "code",
   "execution_count": 15,
   "id": "1074d0fe",
   "metadata": {},
   "outputs": [],
   "source": [
    "eq = sym.Eq(primo_membro, secondo_membro)"
   ]
  },
  {
   "cell_type": "code",
   "execution_count": 16,
   "id": "d229bd02",
   "metadata": {},
   "outputs": [
    {
     "data": {
      "text/latex": [
       "$\\displaystyle 3 x - 5 = 7$"
      ],
      "text/plain": [
       "Eq(3*x - 5, 7)"
      ]
     },
     "execution_count": 16,
     "metadata": {},
     "output_type": "execute_result"
    }
   ],
   "source": [
    "eq"
   ]
  },
  {
   "cell_type": "code",
   "execution_count": 17,
   "id": "bc7e38b7",
   "metadata": {},
   "outputs": [
    {
     "data": {
      "text/plain": [
       "[4]"
      ]
     },
     "execution_count": 17,
     "metadata": {},
     "output_type": "execute_result"
    }
   ],
   "source": [
    "sym.solve(eq, x)"
   ]
  },
  {
   "cell_type": "code",
   "execution_count": 18,
   "id": "a8ea6d22",
   "metadata": {},
   "outputs": [],
   "source": [
    "A = sym.Symbol('A')\n",
    "b = sym.Symbol('b')\n",
    "B = sym.Symbol('B')\n",
    "h = sym.Symbol('h')"
   ]
  },
  {
   "cell_type": "code",
   "execution_count": 19,
   "id": "03343c42",
   "metadata": {},
   "outputs": [],
   "source": [
    "primo_membro = A"
   ]
  },
  {
   "cell_type": "code",
   "execution_count": 20,
   "id": "d5b32fa4",
   "metadata": {},
   "outputs": [],
   "source": [
    "secondo_membro = ((B+b)*h)/2"
   ]
  },
  {
   "cell_type": "code",
   "execution_count": 21,
   "id": "2cbd9fa7",
   "metadata": {},
   "outputs": [],
   "source": [
    "eq = sym.Eq(primo_membro, secondo_membro)"
   ]
  },
  {
   "cell_type": "code",
   "execution_count": 22,
   "id": "24b29255",
   "metadata": {},
   "outputs": [
    {
     "data": {
      "text/latex": [
       "$\\displaystyle A = \\frac{h \\left(B + b\\right)}{2}$"
      ],
      "text/plain": [
       "Eq(A, h*(B + b)/2)"
      ]
     },
     "execution_count": 22,
     "metadata": {},
     "output_type": "execute_result"
    }
   ],
   "source": [
    "eq"
   ]
  },
  {
   "cell_type": "code",
   "execution_count": 23,
   "id": "4a5e18aa",
   "metadata": {},
   "outputs": [
    {
     "data": {
      "text/latex": [
       "$\\displaystyle \\frac{2 A}{B + b}$"
      ],
      "text/plain": [
       "2*A/(B + b)"
      ]
     },
     "execution_count": 23,
     "metadata": {},
     "output_type": "execute_result"
    }
   ],
   "source": [
    "sym.solve(eq, h)[0]"
   ]
  },
  {
   "cell_type": "code",
   "execution_count": null,
   "id": "3eb05732",
   "metadata": {},
   "outputs": [],
   "source": []
  }
 ],
 "metadata": {
  "kernelspec": {
   "display_name": "Python 3",
   "language": "python",
   "name": "python3"
  },
  "language_info": {
   "codemirror_mode": {
    "name": "ipython",
    "version": 3
   },
   "file_extension": ".py",
   "mimetype": "text/x-python",
   "name": "python",
   "nbconvert_exporter": "python",
   "pygments_lexer": "ipython3",
   "version": "3.9.4"
  }
 },
 "nbformat": 4,
 "nbformat_minor": 5
}
