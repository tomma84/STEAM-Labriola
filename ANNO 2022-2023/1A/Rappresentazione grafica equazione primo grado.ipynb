{
 "cells": [
  {
   "cell_type": "markdown",
   "id": "2e3fd305",
   "metadata": {},
   "source": [
    "# Equazioni di primo grado\n",
    "## Interpretazione grafica"
   ]
  },
  {
   "cell_type": "code",
   "execution_count": 1,
   "id": "7ab1d445",
   "metadata": {},
   "outputs": [],
   "source": [
    "import matplotlib.pyplot as plt\n",
    "import numpy as np"
   ]
  },
  {
   "cell_type": "code",
   "execution_count": 44,
   "id": "0270d5c8",
   "metadata": {},
   "outputs": [],
   "source": [
    "x = np.linspace(-1, 1, 21)"
   ]
  },
  {
   "cell_type": "code",
   "execution_count": 45,
   "id": "d1bb4ac2",
   "metadata": {},
   "outputs": [
    {
     "data": {
      "text/plain": [
       "array([-1. , -0.9, -0.8, -0.7, -0.6, -0.5, -0.4, -0.3, -0.2, -0.1,  0. ,\n",
       "        0.1,  0.2,  0.3,  0.4,  0.5,  0.6,  0.7,  0.8,  0.9,  1. ])"
      ]
     },
     "execution_count": 45,
     "metadata": {},
     "output_type": "execute_result"
    }
   ],
   "source": [
    "x"
   ]
  },
  {
   "cell_type": "code",
   "execution_count": 46,
   "id": "68d7f366",
   "metadata": {},
   "outputs": [],
   "source": [
    "y1 = 2*x - 3\n",
    "y2 = 5*x - 3\n",
    "y3 = 1/2 *x - 3\n",
    "y4 = -2*x - 3"
   ]
  },
  {
   "cell_type": "code",
   "execution_count": 55,
   "id": "af2863c0",
   "metadata": {},
   "outputs": [
    {
     "data": {
      "image/png": "[encoded data removed]",
      "text/plain": [
       "<Figure size 432x288 with 1 Axes>"
      ]
     },
     "metadata": {
      "needs_background": "light"
     },
     "output_type": "display_data"
    }
   ],
   "source": [
    "plt.title(\"Rappresentazione grafica di un'equazione di una retta\")\n",
    "\n",
    "#plt.plot(x, y1, 'r', label=\"a=2\")\n",
    "\n",
    "plt.plot(x, y2, 'b', label=\"a=5\")\n",
    "\n",
    "#plt.plot(x, y3, 'g', label=\"a=1/2\")\n",
    "\n",
    "#plt.plot(x, y4, 'y', label=\"a=-2\")\n",
    "\n",
    "plt.xticks([0, 3/5])\n",
    "plt.yticks([-3, 0])\n",
    "\n",
    "plt.legend()\n",
    "plt.grid()\n",
    "plt.show()"
   ]
  },
  {
   "cell_type": "code",
   "execution_count": null,
   "id": "4f55aa05",
   "metadata": {},
   "outputs": [],
   "source": []
  },
  {
   "cell_type": "code",
   "execution_count": null,
   "id": "e4054ddb",
   "metadata": {},
   "outputs": [],
   "source": []
  }
 ],
 "metadata": {
  "kernelspec": {
   "display_name": "Python 3",
   "language": "python",
   "name": "python3"
  },
  "language_info": {
   "codemirror_mode": {
    "name": "ipython",
    "version": 3
   },
   "file_extension": ".py",
   "mimetype": "text/x-python",
   "name": "python",
   "nbconvert_exporter": "python",
   "pygments_lexer": "ipython3",
   "version": "3.9.4"
  }
 },
 "nbformat": 4,
 "nbformat_minor": 5
}
