{
 "cells": [
  {
   "cell_type": "code",
   "execution_count": 12,
   "id": "be346e5c",
   "metadata": {},
   "outputs": [],
   "source": [
    "import sympy as sym\n",
    "from IPython.display import display"
   ]
  },
  {
   "cell_type": "markdown",
   "id": "80805795",
   "metadata": {},
   "source": [
    "# Equazione di primo grado\n",
    "\n",
    "Risolviamo l'equazione nella sua forma:\n",
    "$ ax=b $"
   ]
  },
  {
   "cell_type": "code",
   "execution_count": 13,
   "id": "95345ce4",
   "metadata": {},
   "outputs": [],
   "source": [
    "a = sym.Symbol('a')\n",
    "b = sym.Symbol('b')\n",
    "x = sym.Symbol('x')"
   ]
  },
  {
   "cell_type": "code",
   "execution_count": 14,
   "id": "148957a7",
   "metadata": {},
   "outputs": [],
   "source": [
    "primo_membro = a*x\n",
    "secondo_membro = b"
   ]
  },
  {
   "cell_type": "code",
   "execution_count": 15,
   "id": "0d2344ac",
   "metadata": {},
   "outputs": [],
   "source": [
    "eq = sym.Eq(primo_membro, secondo_membro)"
   ]
  },
  {
   "cell_type": "code",
   "execution_count": 16,
   "id": "a304e869",
   "metadata": {},
   "outputs": [
    {
     "data": {
      "text/latex": [
       "$\\displaystyle a x = b$"
      ],
      "text/plain": [
       "Eq(a*x, b)"
      ]
     },
     "execution_count": 16,
     "metadata": {},
     "output_type": "execute_result"
    }
   ],
   "source": [
    "eq"
   ]
  },
  {
   "cell_type": "code",
   "execution_count": 17,
   "id": "d579031d",
   "metadata": {},
   "outputs": [],
   "source": [
    "sol = sym.solve(eq, x)[0]"
   ]
  },
  {
   "cell_type": "code",
   "execution_count": 18,
   "id": "1c346156",
   "metadata": {},
   "outputs": [
    {
     "data": {
      "text/latex": [
       "$\\displaystyle \\frac{b}{a}$"
      ],
      "text/plain": [
       "b/a"
      ]
     },
     "execution_count": 18,
     "metadata": {},
     "output_type": "execute_result"
    }
   ],
   "source": [
    "sol"
   ]
  },
  {
   "cell_type": "code",
   "execution_count": 28,
   "id": "b42aa5e4",
   "metadata": {},
   "outputs": [
    {
     "data": {
      "text/latex": [
       "$\\displaystyle \\frac{1}{2}$"
      ],
      "text/plain": [
       "1/2"
      ]
     },
     "execution_count": 28,
     "metadata": {},
     "output_type": "execute_result"
    }
   ],
   "source": [
    "sol.subs([ (a, 4), (b, 2) ])"
   ]
  },
  {
   "cell_type": "code",
   "execution_count": 20,
   "id": "d986e865",
   "metadata": {},
   "outputs": [
    {
     "data": {
      "text/latex": [
       "$\\displaystyle \\frac{7}{3}$"
      ],
      "text/plain": [
       "7/3"
      ]
     },
     "execution_count": 20,
     "metadata": {},
     "output_type": "execute_result"
    }
   ],
   "source": [
    "sol.subs([ (a, 3), (b, 7) ])"
   ]
  },
  {
   "cell_type": "code",
   "execution_count": 21,
   "id": "86f066f0",
   "metadata": {},
   "outputs": [
    {
     "data": {
      "text/latex": [
       "$\\displaystyle \\tilde{\\infty}$"
      ],
      "text/plain": [
       "zoo"
      ]
     },
     "execution_count": 21,
     "metadata": {},
     "output_type": "execute_result"
    }
   ],
   "source": [
    "sol.subs([ (a, 0), (b, 7) ])"
   ]
  },
  {
   "cell_type": "code",
   "execution_count": 22,
   "id": "5d0d1309",
   "metadata": {},
   "outputs": [
    {
     "data": {
      "text/latex": [
       "$\\displaystyle \\text{NaN}$"
      ],
      "text/plain": [
       "nan"
      ]
     },
     "execution_count": 22,
     "metadata": {},
     "output_type": "execute_result"
    }
   ],
   "source": [
    "sol.subs([ (a, 0), (b, 0) ])"
   ]
  },
  {
   "cell_type": "markdown",
   "id": "7ab62cdf",
   "metadata": {},
   "source": [
    "# Funzione per risolvere l'equazione di primo grado\n",
    "\n",
    "## Parametri formali della funzione:\n",
    "- A\n",
    "- B\n",
    "\n",
    "Variabili che conterranno le informazioni passate alla funzione quando successivamente viene chiamata"
   ]
  },
  {
   "cell_type": "code",
   "execution_count": 31,
   "id": "1ffd96cf",
   "metadata": {},
   "outputs": [],
   "source": [
    "def sol_eq_primo_grado(A, B):\n",
    "    if A != 0:\n",
    "        soluzione = sol.subs([ (a, A), (b, B) ])\n",
    "        display(soluzione)\n",
    "    else:\n",
    "        if B == 0:\n",
    "            print(\"L'equazione è indeterminata\")\n",
    "        else:\n",
    "            print(\"L'equazione è impossibile\")"
   ]
  },
  {
   "cell_type": "markdown",
   "id": "4ec80e5c",
   "metadata": {},
   "source": [
    "# Chimata della funzione\n",
    "Chiamo la funzione passando dei valori alla stessa, chiamati parametri attuali."
   ]
  },
  {
   "cell_type": "code",
   "execution_count": 32,
   "id": "72c5e137",
   "metadata": {},
   "outputs": [
    {
     "data": {
      "text/latex": [
       "$\\displaystyle \\frac{7}{3}$"
      ],
      "text/plain": [
       "7/3"
      ]
     },
     "metadata": {},
     "output_type": "display_data"
    }
   ],
   "source": [
    "sol_eq_primo_grado(3, 7)"
   ]
  },
  {
   "cell_type": "code",
   "execution_count": 25,
   "id": "5aa01181",
   "metadata": {},
   "outputs": [
    {
     "name": "stdout",
     "output_type": "stream",
     "text": [
      "L'equazione è indeterminata\n"
     ]
    }
   ],
   "source": [
    "sol_eq_primo_grado(0, 0)"
   ]
  },
  {
   "cell_type": "code",
   "execution_count": 26,
   "id": "fac63583",
   "metadata": {},
   "outputs": [
    {
     "name": "stdout",
     "output_type": "stream",
     "text": [
      "L'equazione è impossibile\n"
     ]
    }
   ],
   "source": [
    "sol_eq_primo_grado(0, -7.8)"
   ]
  }
 ],
 "metadata": {
  "kernelspec": {
   "display_name": "Python 3",
   "language": "python",
   "name": "python3"
  },
  "language_info": {
   "codemirror_mode": {
    "name": "ipython",
    "version": 3
   },
   "file_extension": ".py",
   "mimetype": "text/x-python",
   "name": "python",
   "nbconvert_exporter": "python",
   "pygments_lexer": "ipython3",
   "version": "3.9.4"
  }
 },
 "nbformat": 4,
 "nbformat_minor": 5
}
