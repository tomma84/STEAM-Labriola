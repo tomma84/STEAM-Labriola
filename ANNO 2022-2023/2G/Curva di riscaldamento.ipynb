{
 "cells": [
  {
   "cell_type": "code",
   "execution_count": 5,
   "id": "05b68234",
   "metadata": {},
   "outputs": [],
   "source": [
    "tempi =       [0, 300, 330, 360, 390, 420, 450, 480, 510, 540, 570, 600, 630, 690, 750, 810, 870, 930, 990, 1050, 1110, 1170, 1230, 1290, 1350, 1410, 1470, 1530, 1590, 1650, 1710, 1770, 1830, 1890]\n",
    "temperature = [0,   0,   1,   1,   3,   3 ,   4,   4,   8,   6,   7,   7,  11,  19,  27,  34,  41,  49,  52,   61,   70,   72,   80,   85,   90,   93,   97,   97,  100,  101,  101,  101,  102,  102]"
   ]
  },
  {
   "cell_type": "code",
   "execution_count": 6,
   "id": "365ca166",
   "metadata": {},
   "outputs": [],
   "source": [
    "import matplotlib.pyplot as plt"
   ]
  },
  {
   "cell_type": "code",
   "execution_count": 7,
   "id": "8b13cffb",
   "metadata": {},
   "outputs": [
    {
     "data": {
      "text/plain": [
       "34"
      ]
     },
     "execution_count": 7,
     "metadata": {},
     "output_type": "execute_result"
    }
   ],
   "source": [
    "len(temperature)"
   ]
  },
  {
   "cell_type": "code",
   "execution_count": 8,
   "id": "ea6311c6",
   "metadata": {},
   "outputs": [
    {
     "data": {
      "text/plain": [
       "34"
      ]
     },
     "execution_count": 8,
     "metadata": {},
     "output_type": "execute_result"
    }
   ],
   "source": [
    "len(tempi)"
   ]
  },
  {
   "cell_type": "code",
   "execution_count": 9,
   "id": "50fb00a9",
   "metadata": {},
   "outputs": [
    {
     "data": {
      "text/plain": [
       "True"
      ]
     },
     "execution_count": 9,
     "metadata": {},
     "output_type": "execute_result"
    }
   ],
   "source": [
    "len(temperature) == len(tempi)"
   ]
  },
  {
   "cell_type": "code",
   "execution_count": 26,
   "id": "2a7a2690",
   "metadata": {},
   "outputs": [
    {
     "data": {
      "image/png": "[encoded data removed]",
      "text/plain": [
       "<Figure size 432x288 with 1 Axes>"
      ]
     },
     "metadata": {
      "needs_background": "light"
     },
     "output_type": "display_data"
    }
   ],
   "source": [
    "plt.plot(tempi, temperature, 'or')\n",
    "plt.plot(tempi, temperature, '-b')\n",
    "plt.xlabel('Tempo (s)')\n",
    "plt.ylabel('Temperatura (°C)')\n",
    "plt.title('Curva di riscaldamento')\n",
    "plt.grid()\n",
    "plt.savefig('grafico.png')\n",
    "plt.show()"
   ]
  },
  {
   "cell_type": "code",
   "execution_count": null,
   "id": "2d096b2f",
   "metadata": {},
   "outputs": [],
   "source": []
  }
 ],
 "metadata": {
  "kernelspec": {
   "display_name": "Python 3",
   "language": "python",
   "name": "python3"
  },
  "language_info": {
   "codemirror_mode": {
    "name": "ipython",
    "version": 3
   },
   "file_extension": ".py",
   "mimetype": "text/x-python",
   "name": "python",
   "nbconvert_exporter": "python",
   "pygments_lexer": "ipython3",
   "version": "3.9.4"
  }
 },
 "nbformat": 4,
 "nbformat_minor": 5
}
