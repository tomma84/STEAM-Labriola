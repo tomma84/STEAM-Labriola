{
 "cells": [
  {
   "cell_type": "code",
   "execution_count": 3,
   "metadata": {},
   "outputs": [],
   "source": [
    "import sympy as sym\n",
    "import numpy as np\n",
    "import matplotlib.pyplot as plt"
   ]
  },
  {
   "cell_type": "markdown",
   "metadata": {},
   "source": [
    "# Problema di fisica"
   ]
  },
  {
   "attachments": {},
   "cell_type": "markdown",
   "metadata": {},
   "source": [
    "## Testo\n",
    "Due atleti stanno facendo una gara di corsa su un rettilineo. Il primo atleta corre alla velocità costante di 9 m/s e parte 16 m più indietro rispetto al secondo corridore, che invece ha una velocità costante di 8 m/s. Dopo quanto tempo il primo corridore raggiunge il secondo? Quanto spazio hanno percorso i due atleti fino a quell'istante?"
   ]
  },
  {
   "cell_type": "markdown",
   "metadata": {},
   "source": [
    "### Dati\n",
    "\n",
    "- velocità primo atleta = 9 m/s\n",
    "- velocità second atleta = 8 m/s\n",
    "- posizione iniziale primo altleta = 16 m dietro il secondo"
   ]
  },
  {
   "cell_type": "markdown",
   "metadata": {},
   "source": [
    "## Analisi del problema\n",
    "\n",
    "Il problema presenta due moti:\n",
    "\n",
    "1. Rettilineo Uniforme che parte più indietro ma con veloctà maggiore\n",
    "2. Rettilineo Uniforme che parte più avanti ma con velocità minore\n",
    "\n",
    "Entrambi i moti iniziano nello stesso istante per tanto $t_0$ per entrambi i moti può essere fissato a $0$."
   ]
  },
  {
   "attachments": {},
   "cell_type": "markdown",
   "metadata": {},
   "source": [
    "### Legge moto uniforme\n",
    "\n",
    "$$\n",
    "s(t) = s_0 + v(t-t_0)\n",
    "$$\n",
    "\n",
    "$$\n",
    "s(t) = s_0 + vt\n",
    "$$\n",
    "\n",
    "La legge va applicata due volte per i due moti.\n",
    "Per poterle distinguere il primo atleta avrà pedice a e il secondo atleta avrà pedice b.\n",
    "\n",
    "Per entrambi si omette il termine $t_0$ poiché è nullo.\n",
    "\n",
    "Il valore $s_0$ è diverso nei due moti. La posizione iniziale dei due atleti  differiranno di 16 metri.\n",
    "\n",
    "Per il disegno che abbiamo effetuato all'inizio posizioniamo il secondo atleta nella posizione $s_{0,b} = 0$ e il primo 16 metri prima ovvero a $s_{0,a} = -16$.\n",
    "\n",
    "I due corridori si raggiungono quando si trovano nello stesso istante nella stessa posizione, quindi le due incognite $s$ e $t$ non avranno pedice, visto che si riferiscono agli stessi valori per i due moti."
   ]
  },
  {
   "attachments": {},
   "cell_type": "markdown",
   "metadata": {},
   "source": [
    "### Equazioni da usare\n",
    "\n",
    "$$\n",
    "s = s_{0,a} + v_a t \\\\\n",
    "s = s_{0,b} + v_b t \\\\\n",
    "$$\n"
   ]
  },
  {
   "cell_type": "markdown",
   "metadata": {},
   "source": [
    "## Definizione delle equazioni in Sympy"
   ]
  },
  {
   "cell_type": "markdown",
   "metadata": {},
   "source": [
    "### Simboli usati e dati"
   ]
  },
  {
   "cell_type": "code",
   "execution_count": 4,
   "metadata": {},
   "outputs": [],
   "source": [
    "s, s0a, va, t, s0b, vb = sym.symbols('s s_0a v_a t s_0b v_b ')"
   ]
  },
  {
   "cell_type": "markdown",
   "metadata": {},
   "source": [
    "### Definizione Equazioni"
   ]
  },
  {
   "cell_type": "code",
   "execution_count": 5,
   "metadata": {},
   "outputs": [],
   "source": [
    "moto1 = sym.Eq(s, s0a + va*t)\n",
    "moto2 = sym.Eq(s, s0b + vb*t)"
   ]
  },
  {
   "cell_type": "code",
   "execution_count": 6,
   "metadata": {},
   "outputs": [
    {
     "data": {
      "text/latex": [
       "$\\displaystyle s = s_{0a} + t v_{a}$"
      ],
      "text/plain": [
       "Eq(s, s_0a + t*v_a)"
      ]
     },
     "execution_count": 6,
     "metadata": {},
     "output_type": "execute_result"
    }
   ],
   "source": [
    "moto1"
   ]
  },
  {
   "cell_type": "code",
   "execution_count": 7,
   "metadata": {},
   "outputs": [
    {
     "data": {
      "text/latex": [
       "$\\displaystyle s = s_{0b} + t v_{b}$"
      ],
      "text/plain": [
       "Eq(s, s_0b + t*v_b)"
      ]
     },
     "execution_count": 7,
     "metadata": {},
     "output_type": "execute_result"
    }
   ],
   "source": [
    "moto2"
   ]
  },
  {
   "cell_type": "markdown",
   "metadata": {},
   "source": [
    "### Svolgimento\n",
    "\n",
    "Visto che i due moti avranno lo stesso valore finale si euguagliano le due espressioni per $s$"
   ]
  },
  {
   "cell_type": "code",
   "execution_count": 8,
   "metadata": {},
   "outputs": [],
   "source": [
    "\n",
    "eq = sym.Eq(moto1.rhs, moto2.rhs)"
   ]
  },
  {
   "cell_type": "code",
   "execution_count": 9,
   "metadata": {},
   "outputs": [
    {
     "data": {
      "text/latex": [
       "$\\displaystyle s_{0a} + t v_{a} = s_{0b} + t v_{b}$"
      ],
      "text/plain": [
       "Eq(s_0a + t*v_a, s_0b + t*v_b)"
      ]
     },
     "execution_count": 9,
     "metadata": {},
     "output_type": "execute_result"
    }
   ],
   "source": [
    "eq"
   ]
  },
  {
   "cell_type": "markdown",
   "metadata": {},
   "source": [
    "Risoluzione della equazione rispetto all'incongita $t$"
   ]
  },
  {
   "cell_type": "code",
   "execution_count": 10,
   "metadata": {},
   "outputs": [
    {
     "data": {
      "text/latex": [
       "$\\displaystyle \\frac{- s_{0a} + s_{0b}}{v_{a} - v_{b}}$"
      ],
      "text/plain": [
       "(-s_0a + s_0b)/(v_a - v_b)"
      ]
     },
     "execution_count": 10,
     "metadata": {},
     "output_type": "execute_result"
    }
   ],
   "source": [
    "formula_tempo_incontro = sym.solve(eq, t)[0]\n",
    "formula_tempo_incontro"
   ]
  },
  {
   "cell_type": "code",
   "execution_count": 11,
   "metadata": {},
   "outputs": [
    {
     "data": {
      "text/latex": [
       "$\\displaystyle 16$"
      ],
      "text/plain": [
       "16"
      ]
     },
     "execution_count": 11,
     "metadata": {},
     "output_type": "execute_result"
    }
   ],
   "source": [
    "tempo_incontro = formula_tempo_incontro.subs(((s0a, -16), (s0b, 0), (va, 9), (vb, 8)))\n",
    "tempo_incontro"
   ]
  },
  {
   "cell_type": "markdown",
   "metadata": {},
   "source": [
    "Sostituiamo il valore di $t$ al primo moto."
   ]
  },
  {
   "cell_type": "code",
   "execution_count": 33,
   "metadata": {},
   "outputs": [
    {
     "data": {
      "text/latex": [
       "$\\displaystyle s = 128$"
      ],
      "text/plain": [
       "Eq(s, 128)"
      ]
     },
     "execution_count": 33,
     "metadata": {},
     "output_type": "execute_result"
    }
   ],
   "source": [
    "spazio_finale = moto1.subs(((s0a, -16), (va, 9), (t,tempo_incontro)))\n",
    "spazio_finale"
   ]
  },
  {
   "cell_type": "markdown",
   "metadata": {},
   "source": [
    "## Grafico"
   ]
  },
  {
   "cell_type": "markdown",
   "metadata": {},
   "source": [
    "Vettore con i tempi da $0$ a $20$ secondi."
   ]
  },
  {
   "cell_type": "code",
   "execution_count": 49,
   "metadata": {},
   "outputs": [],
   "source": [
    "t = np.arange(0,20, 0.1)"
   ]
  },
  {
   "cell_type": "markdown",
   "metadata": {},
   "source": [
    "Vettori con le posizioni dei due moti durante i 20 secondi."
   ]
  },
  {
   "cell_type": "code",
   "execution_count": 54,
   "metadata": {},
   "outputs": [],
   "source": [
    "sa = -16 + 9*t\n",
    "sb = 8*t"
   ]
  },
  {
   "cell_type": "markdown",
   "metadata": {},
   "source": [
    "### Creazione del grafico"
   ]
  },
  {
   "cell_type": "code",
   "execution_count": 69,
   "metadata": {},
   "outputs": [
    {
     "data": {
      "image/png": "[encoded data removed]",
      "text/plain": [
       "<Figure size 432x288 with 1 Axes>"
      ]
     },
     "metadata": {
      "needs_background": "light"
     },
     "output_type": "display_data"
    }
   ],
   "source": [
    "plt.plot(0,-16, 'xb', label='p(t=0) - Primo atleta')\n",
    "plt.plot(t, sa, 'b--',label='Moto primo altleta')\n",
    "plt.plot(0,0, 'xr', label='p(t=0) - Secondo atleta')\n",
    "plt.plot(t, sb, 'r--',label='Moto secondo altleta')\n",
    "plt.plot(16, 128, 'xg', label='Punto di incontro')\n",
    "plt.xlabel('Tempo (s)')\n",
    "plt.ylabel('Spazio (m)')\n",
    "plt.legend(loc='upper left')\n",
    "plt.grid()\n",
    "plt.savefig('immagine.png', dpi=150)\n",
    "plt.show()"
   ]
  }
 ],
 "metadata": {
  "kernelspec": {
   "display_name": "Python 3",
   "language": "python",
   "name": "python3"
  },
  "language_info": {
   "codemirror_mode": {
    "name": "ipython",
    "version": 3
   },
   "file_extension": ".py",
   "mimetype": "text/x-python",
   "name": "python",
   "nbconvert_exporter": "python",
   "pygments_lexer": "ipython3",
   "version": "3.9.4"
  }
 },
 "nbformat": 4,
 "nbformat_minor": 4
}
