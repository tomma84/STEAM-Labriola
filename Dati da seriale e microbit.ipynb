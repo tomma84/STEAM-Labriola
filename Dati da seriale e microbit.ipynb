{
 "cells": [
  {
   "cell_type": "markdown",
   "metadata": {},
   "source": [
    "# Raccolta dati inviati dal microbit tramite seriale"
   ]
  },
  {
   "cell_type": "markdown",
   "metadata": {},
   "source": [
    "## Microbit\n",
    "\n",
    "Sul microbit deve essere caricato l'apposito programma che legge i dati dal sensore e lo invia tramite porta seriale (USB).\n",
    "\n",
    "Questo il codice per leggere valori di temperatura dal sensore integrato sul microbit:\n",
    "\n",
    "```python\n",
    "def invia_dati():\n",
    "    serial.write_line(str(input.temperature()))\n",
    "basic.forever(invia_dati)  \n",
    "```\n",
    "\n",
    "Questo il codice per leggere valori di luminosità (0 -255) usando i led integrati sul microbit:\n",
    "\n",
    "```python\n",
    "def invia_dati():\n",
    "    serial.write_line(str(input.light_level()))\n",
    "basic.forever(invia_dati)  \n",
    "```\n",
    "\n",
    "Il microbit può essere programmato dal sito:\n",
    "\n",
    "https://makecode.microbit.org/"
   ]
  },
  {
   "cell_type": "markdown",
   "metadata": {},
   "source": [
    "## Libreria per la comunicazione seriale\n",
    "comando per installare la libreria necessaria per comunicare con la seriale.\n",
    "Da inserire in una cella in modalità codice.\n",
    "```\n",
    "!pip install pyserial\n",
    "```"
   ]
  },
  {
   "cell_type": "markdown",
   "metadata": {},
   "source": [
    "## Librerie usate"
   ]
  },
  {
   "cell_type": "code",
   "execution_count": 1,
   "metadata": {},
   "outputs": [],
   "source": [
    "from time import sleep\n",
    "import serial\n",
    "import numpy as np"
   ]
  },
  {
   "cell_type": "markdown",
   "metadata": {},
   "source": [
    "## Porta COM\n",
    "\n",
    "Prima di collegarsi con il programma python alla seriale bisogna conoscere il nome della porta in uso. Tale informazione la si può trovare su Windows con *Gestione dispositivi*.\n",
    "\n",
    "Collegato il microbit al computer tramite cavo USB, il dispositivò comparità nell'elenco, come mostrato in figura.\n",
    "\n",
    "\n",
    "![](gestionedispositivi.png)"
   ]
  },
  {
   "cell_type": "markdown",
   "metadata": {},
   "source": [
    "Tramite il comando *serial.Serial()* si apre una connesione verso la porta specificata, in questo esempio la **COM7** con il baudrate specificato. Per microbit tale valore corrisponde a 115200.\n",
    "\n",
    "```\n",
    "serialPort = serial.Serial(port = \"COM7\", baudrate=115200)\n",
    "```\n",
    "\n",
    "I dati vengono letti dal comando *serialPort.readLine()* che memorizza nella variabile *serialString* il contenuto. Il vontenuto viene decodificato secondo la codifica ASCII. I dati inviati dal microbit finiscono con un ritorno a capo *\\n* avendo usato i comandi scrittura e lettura di una riga. Il comando *strip()* elimina il ritorno a capo presente. In questo modo si avrà solamente il valore numerico fornito dal sensore.\n",
    "\n",
    "```\n",
    "serialString = serialPort.readline()\n",
    "data[i]=serialString.decode('Ascii').strip()\n",
    "```\n",
    "\n",
    "Il comando *sleep()* permette una pausa di X secondi tra un'acquisizione e l'altra dei dati. In questo esempio viene usata una pausa di un secondo. Essendo 30 i dati catturati il tempo ri degistrazione corrisponde a 30 secondi."
   ]
  },
  {
   "cell_type": "code",
   "execution_count": 3,
   "metadata": {},
   "outputs": [
    {
     "name": "stdout",
     "output_type": "stream",
     "text": [
      "0.0\n",
      "1.0\n",
      "1.0\n",
      "1.0\n",
      "1.0\n",
      "1.0\n",
      "1.0\n",
      "1.0\n",
      "1.0\n",
      "1.0\n",
      "1.0\n",
      "1.0\n",
      "1.0\n",
      "1.0\n",
      "1.0\n",
      "1.0\n",
      "1.0\n",
      "2.0\n",
      "3.0\n",
      "4.0\n",
      "9.0\n",
      "13.0\n",
      "18.0\n",
      "24.0\n",
      "29.0\n",
      "42.0\n",
      "48.0\n",
      "56.0\n",
      "63.0\n",
      "70.0\n"
     ]
    }
   ],
   "source": [
    "data = np.zeros(30)\n",
    "serialPort = serial.Serial(port = \"COM7\", baudrate=115200)\n",
    "\n",
    "for i in range(30):\n",
    "    serialString = serialPort.readline()\n",
    "    data[i]=serialString.decode('Ascii').strip()\n",
    "    print(data[i])\n",
    "    sleep(1)\n",
    "serialPort.close()"
   ]
  },
  {
   "cell_type": "code",
   "execution_count": 4,
   "metadata": {},
   "outputs": [
    {
     "data": {
      "text/plain": [
       "array([ 0.,  1.,  1.,  1.,  1.,  1.,  1.,  1.,  1.,  1.,  1.,  1.,  1.,\n",
       "        1.,  1.,  1.,  1.,  2.,  3.,  4.,  9., 13., 18., 24., 29., 42.,\n",
       "       48., 56., 63., 70.])"
      ]
     },
     "execution_count": 4,
     "metadata": {},
     "output_type": "execute_result"
    }
   ],
   "source": [
    "data"
   ]
  },
  {
   "cell_type": "markdown",
   "metadata": {},
   "source": [
    "## Possibile elaborazione dei dati ottenuti\n",
    "Usando ad esempio matplotlib è possibile graficare i dati memorizzati nel vettore data."
   ]
  },
  {
   "cell_type": "code",
   "execution_count": 5,
   "metadata": {},
   "outputs": [],
   "source": [
    "import matplotlib.pyplot as plt"
   ]
  },
  {
   "cell_type": "code",
   "execution_count": 8,
   "metadata": {},
   "outputs": [
    {
     "data": {
      "image/png": "[encoded data removed]",
      "text/plain": [
       "<Figure size 432x288 with 1 Axes>"
      ]
     },
     "metadata": {
      "needs_background": "light"
     },
     "output_type": "display_data"
    }
   ],
   "source": [
    "plt.plot(data)\n",
    "plt.title('Sensore luminosità')\n",
    "plt.grid()\n",
    "plt.xlabel('Tempo [s]')\n",
    "plt.show()"
   ]
  },
  {
   "cell_type": "code",
   "execution_count": null,
   "metadata": {},
   "outputs": [],
   "source": []
  }
 ],
 "metadata": {
  "kernelspec": {
   "display_name": "Python 3",
   "language": "python",
   "name": "python3"
  },
  "language_info": {
   "codemirror_mode": {
    "name": "ipython",
    "version": 3
   },
   "file_extension": ".py",
   "mimetype": "text/x-python",
   "name": "python",
   "nbconvert_exporter": "python",
   "pygments_lexer": "ipython3",
   "version": "3.9.4"
  }
 },
 "nbformat": 4,
 "nbformat_minor": 4
}
