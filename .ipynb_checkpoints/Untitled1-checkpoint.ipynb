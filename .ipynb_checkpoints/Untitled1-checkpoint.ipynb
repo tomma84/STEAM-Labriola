{
 "cells": [
  {
   "cell_type": "code",
   "execution_count": 18,
   "id": "762cabba",
   "metadata": {},
   "outputs": [],
   "source": [
    "import sympy as sym\n",
    "from IPython.display import display"
   ]
  },
  {
   "cell_type": "code",
   "execution_count": 2,
   "id": "e0424ee5",
   "metadata": {},
   "outputs": [],
   "source": [
    "a = sym.Symbol('a')\n",
    "b = sym.Symbol('b')\n",
    "x = sym.Symbol('x')"
   ]
  },
  {
   "cell_type": "code",
   "execution_count": 3,
   "id": "894b3378",
   "metadata": {},
   "outputs": [],
   "source": [
    "primo_membro = a*x\n",
    "secondo_membro = b"
   ]
  },
  {
   "cell_type": "code",
   "execution_count": 4,
   "id": "fff85b8d",
   "metadata": {},
   "outputs": [],
   "source": [
    "eq = sym.Eq(primo_membro, secondo_membro)"
   ]
  },
  {
   "cell_type": "code",
   "execution_count": 22,
   "id": "e16826d9",
   "metadata": {},
   "outputs": [],
   "source": [
    "def risolvi(A, B):\n",
    "    if A == 0 and B == 0:\n",
    "        print(\"Indeterminata\")\n",
    "        return\n",
    "    if A == 0:\n",
    "        print(\"Impossibile\")\n",
    "        return\n",
    "    sol = sym.solve(eq, x)[0]\n",
    "    soluzione = sol.subs(( (a, A), (b, B) ))\n",
    "    display(soluzione)"
   ]
  },
  {
   "cell_type": "code",
   "execution_count": 23,
   "id": "fd1a8264",
   "metadata": {},
   "outputs": [
    {
     "data": {
      "text/latex": [
       "$\\displaystyle \\frac{5}{3}$"
      ],
      "text/plain": [
       "5/3"
      ]
     },
     "metadata": {},
     "output_type": "display_data"
    }
   ],
   "source": [
    "risolvi(3,5)"
   ]
  },
  {
   "cell_type": "code",
   "execution_count": 24,
   "id": "5d0dd1ef",
   "metadata": {},
   "outputs": [
    {
     "name": "stdout",
     "output_type": "stream",
     "text": [
      "Impossibile\n"
     ]
    }
   ],
   "source": [
    "risolvi(0,5)"
   ]
  },
  {
   "cell_type": "code",
   "execution_count": 25,
   "id": "1f98bd10",
   "metadata": {},
   "outputs": [
    {
     "name": "stdout",
     "output_type": "stream",
     "text": [
      "Indeterminata\n"
     ]
    }
   ],
   "source": [
    "risolvi(0,0)"
   ]
  },
  {
   "cell_type": "code",
   "execution_count": 27,
   "id": "ca57749c",
   "metadata": {},
   "outputs": [],
   "source": [
    "sol = sym.solve(eq, x)[0]"
   ]
  },
  {
   "cell_type": "code",
   "execution_count": 34,
   "id": "9be843c9",
   "metadata": {},
   "outputs": [
    {
     "data": {
      "text/latex": [
       "$\\displaystyle \\tilde{\\infty}$"
      ],
      "text/plain": [
       "zoo"
      ]
     },
     "execution_count": 34,
     "metadata": {},
     "output_type": "execute_result"
    }
   ],
   "source": [
    "sol.subs(( (a, 0), (b, 4) ))"
   ]
  },
  {
   "cell_type": "code",
   "execution_count": 31,
   "id": "44b436f3",
   "metadata": {},
   "outputs": [
    {
     "data": {
      "text/latex": [
       "$\\displaystyle \\text{NaN}$"
      ],
      "text/plain": [
       "nan"
      ]
     },
     "execution_count": 31,
     "metadata": {},
     "output_type": "execute_result"
    }
   ],
   "source": [
    "sol.subs(( (a, 0), (b, 0) ))"
   ]
  }
 ],
 "metadata": {
  "kernelspec": {
   "display_name": "Python 3",
   "language": "python",
   "name": "python3"
  },
  "language_info": {
   "codemirror_mode": {
    "name": "ipython",
    "version": 3
   },
   "file_extension": ".py",
   "mimetype": "text/x-python",
   "name": "python",
   "nbconvert_exporter": "python",
   "pygments_lexer": "ipython3",
   "version": "3.9.4"
  }
 },
 "nbformat": 4,
 "nbformat_minor": 5
}
