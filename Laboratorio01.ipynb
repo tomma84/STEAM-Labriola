{
 "cells": [
  {
   "cell_type": "markdown",
   "metadata": {},
   "source": [
    "# Relazione tra massa e volume di un dato materiale"
   ]
  },
  {
   "cell_type": "code",
   "execution_count": 11,
   "metadata": {},
   "outputs": [],
   "source": [
    "import numpy\n",
    "import matplotlib.pyplot as plt"
   ]
  },
  {
   "cell_type": "code",
   "execution_count": 7,
   "metadata": {},
   "outputs": [],
   "source": [
    "volume_iniziale = 50\n",
    "\n",
    "massa1 = 10.3\n",
    "massa2 = 15.5\n",
    "massa3 = 21.1\n",
    "\n",
    "masse = numpy.array([massa1, massa1 + massa2, massa1 + massa2 + massa3])\n",
    "\n",
    "volume1 = 51\n",
    "volume2 = 53\n",
    "volume3 = 56\n",
    "\n",
    "volumi_misurati = numpy.array([volume1, volume2, volume3])"
   ]
  },
  {
   "cell_type": "code",
   "execution_count": 10,
   "metadata": {},
   "outputs": [
    {
     "data": {
      "text/plain": [
       "array([1, 3, 6])"
      ]
     },
     "execution_count": 10,
     "metadata": {},
     "output_type": "execute_result"
    }
   ],
   "source": [
    "volumi = volumi_misurati - volume_iniziale\n",
    "volumi"
   ]
  },
  {
   "cell_type": "code",
   "execution_count": 17,
   "metadata": {},
   "outputs": [
    {
     "data": {
      "image/png": "[encoded data removed]",
      "text/plain": [
       "<Figure size 432x288 with 1 Axes>"
      ]
     },
     "metadata": {
      "needs_background": "light"
     },
     "output_type": "display_data"
    }
   ],
   "source": [
    "x = [0, volumi[2]]\n",
    "y = [0, masse[2]]\n",
    "plt.grid()\n",
    "plt.plot(x,y)\n",
    "plt.plot(volumi, masse, '.')\n",
    "plt.xlabel(\"Volume (cm^3)\")\n",
    "plt.ylabel(\"Massa (g)\")\n",
    "\n",
    "plt.show()"
   ]
  },
  {
   "cell_type": "code",
   "execution_count": 18,
   "metadata": {},
   "outputs": [
    {
     "data": {
      "text/plain": [
       "array([10.3       ,  8.6       ,  7.81666667])"
      ]
     },
     "execution_count": 18,
     "metadata": {},
     "output_type": "execute_result"
    }
   ],
   "source": [
    "masse/volumi"
   ]
  },
  {
   "cell_type": "code",
   "execution_count": null,
   "metadata": {},
   "outputs": [],
   "source": []
  }
 ],
 "metadata": {
  "kernelspec": {
   "display_name": "Python 3",
   "language": "python",
   "name": "python3"
  },
  "language_info": {
   "codemirror_mode": {
    "name": "ipython",
    "version": 3
   },
   "file_extension": ".py",
   "mimetype": "text/x-python",
   "name": "python",
   "nbconvert_exporter": "python",
   "pygments_lexer": "ipython3",
   "version": "3.9.4"
  }
 },
 "nbformat": 4,
 "nbformat_minor": 4
}
